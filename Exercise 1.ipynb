{
 "cells": [
  {
   "cell_type": "code",
   "execution_count": 2,
   "id": "b33e3ff7-379f-4d44-a34d-4112521f32f2",
   "metadata": {},
   "outputs": [],
   "source": [
    "ice_cream_rating=1\n",
    "sleeping_rating=7"
   ]
  },
  {
   "cell_type": "code",
   "execution_count": 43,
   "id": "8ef41510-f551-4fe2-9fd8-4d8ca80a3d6c",
   "metadata": {},
   "outputs": [
    {
     "name": "stdin",
     "output_type": "stream",
     "text": [
      "what is your first name? Henry \n",
      "what is your last name? Osei\n"
     ]
    }
   ],
   "source": [
    "first_name=input('what is your first name?')\n",
    "last_name=input('what is your last name?')\n",
    "my_name=first_name+last_name"
   ]
  },
  {
   "cell_type": "markdown",
   "id": "fb7cddf7-eea4-4c5f-a69d-6eed5bd56c10",
   "metadata": {},
   "source": [
    "I left a space after the first name when inputing the values so as to separate both names because when I used comma, it produced a different result"
   ]
  },
  {
   "cell_type": "code",
   "execution_count": 4,
   "id": "fd9a9ba9-6533-48fb-bd73-52861b55153c",
   "metadata": {},
   "outputs": [],
   "source": [
    "import math"
   ]
  },
  {
   "cell_type": "code",
   "execution_count": 7,
   "id": "a71d8565-ceb7-4412-9a2f-c6dd0c6308ef",
   "metadata": {},
   "outputs": [],
   "source": [
    "A=(ice_cream_rating,sleeping_rating)\n",
    "happiness_rating=sum(A)/len(A)"
   ]
  },
  {
   "cell_type": "code",
   "execution_count": 53,
   "id": "9997a731-9a4e-4aef-b076-0df862bcff3c",
   "metadata": {},
   "outputs": [
    {
     "name": "stdout",
     "output_type": "stream",
     "text": [
      "4.0 Henry  1\n"
     ]
    }
   ],
   "source": [
    "type(ice_cream_rating)\n",
    "type(first_name)\n",
    "type(happiness_rating)\n",
    "print(happiness_rating,first_name,ice_cream_rating)"
   ]
  },
  {
   "cell_type": "code",
   "execution_count": 24,
   "id": "b1d68c5e-13fa-40fb-b9e7-0057f98b386e",
   "metadata": {},
   "outputs": [
    {
     "name": "stdout",
     "output_type": "stream",
     "text": [
      "My name is Henry and i give eating ice cream a score of 1 out of 10!\n"
     ]
    }
   ],
   "source": [
    "print('My name is',first_name,'and i give eating ice cream a score of',ice_cream_rating,'out of 10!')"
   ]
  },
  {
   "cell_type": "code",
   "execution_count": 44,
   "id": "5891e654-571b-4e90-a12c-599c4820e777",
   "metadata": {},
   "outputs": [
    {
     "name": "stdout",
     "output_type": "stream",
     "text": [
      "My name is Henry Osei and my sleeping enjoyment rating is 7 /10!\n"
     ]
    }
   ],
   "source": [
    "print('My name is',my_name,'and my sleeping enjoyment rating is',sleeping_rating, '/10!')"
   ]
  },
  {
   "cell_type": "code",
   "execution_count": 46,
   "id": "08824817-9dbd-4f63-8d69-0a18597a23ca",
   "metadata": {},
   "outputs": [
    {
     "name": "stdout",
     "output_type": "stream",
     "text": [
      "Based on the factors above, my happiness rating is 4.0 out of 10, or 40.0 %\n"
     ]
    }
   ],
   "source": [
    "print('Based on the factors above, my happiness rating is', happiness_rating,'out of 10, or',happiness_rating/10*100, '%' )"
   ]
  },
  {
   "cell_type": "code",
   "execution_count": null,
   "id": "db368fe8-2cbc-4865-9b98-2468ce007a6d",
   "metadata": {},
   "outputs": [],
   "source": []
  }
 ],
 "metadata": {
  "kernelspec": {
   "display_name": "Python 3",
   "language": "python",
   "name": "python3"
  },
  "language_info": {
   "codemirror_mode": {
    "name": "ipython",
    "version": 3
   },
   "file_extension": ".py",
   "mimetype": "text/x-python",
   "name": "python",
   "nbconvert_exporter": "python",
   "pygments_lexer": "ipython3",
   "version": "3.8.8"
  }
 },
 "nbformat": 4,
 "nbformat_minor": 5
}
