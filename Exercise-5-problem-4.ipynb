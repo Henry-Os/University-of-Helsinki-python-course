{
 "cells": [
  {
   "cell_type": "markdown",
   "metadata": {
    "deletable": false,
    "editable": false,
    "nbgrader": {
     "cell_type": "markdown",
     "checksum": "7d1d00139390674ebfa2ab4b93f177c2",
     "grade": false,
     "grade_id": "cell-8f87d3f057af49f1",
     "locked": true,
     "schema_version": 3,
     "solution": false,
     "task": false
    }
   },
   "source": [
    "## Problem 4 (*optional*) - Parsing daily temperatures\n",
    "\n",
    "**This is an optional task for those who want more practice.**\n",
    "\n",
    "This problem is more challenging as we provide only minimal instructions for completing the given tasks. You will need to search through the pandas documentation (and other resources) for help. We will cover data aggregation in more detail during Lesson 6, so this is a good opportunity to get a head start for next week!\n",
    "\n",
    "In this problem, the aim is to aggregate the hourly temperature data for Helsinki Kumpula and Rovaniemi weather stations to the daily level. Currently, there are (at most) 3 measurements per hour in the data as you can see from the `YR--MODAHRMN` column (Year-Month-Day-Hour-Minute in Greenwich Mean Time (GMT):\n",
    "\n",
    "```\n",
    "    USAF  YR--MODAHRMN  TEMP  MAX  MIN  Celsius\n",
    "0  28450  201705010000  31.0  NaN  NaN       -1\n",
    "1  28450  201705010020  30.0  NaN  NaN       -1\n",
    "2  28450  201705010050  30.0  NaN  NaN       -1\n",
    "3  28450  201705010100  31.0  NaN  NaN       -1\n",
    "4  28450  201705010120  30.0  NaN  NaN       -1\n",
    "```\n",
    "\n",
    "The output should contain mean, max, and min Celsius temperatures for each day (for example, one mean temperature value for the 1st of May and so on).\n",
    "\n",
    "### What to do\n",
    "\n",
    "- Your task is to summarize the information for each day by aggregating (grouping) the DataFrame.\n",
    "- The output should be a new DataFrame where you have calculated the mean, max, and min Celsius temperatures for each day separately based on hourly values.\n",
    "- Repeat the task for the two data sets you created in Problem 2 (May-August temperatures from Rovaniemi and Kumpula).\n",
    "\n",
    "Don't forget to:\n",
    "\n",
    "- Include useful comments in your code\n",
    "- Push your solution to GitHub\n",
    "\n",
    "### Hint\n",
    "\n",
    "You can find help from the [Pandas Official documentation](https://pandas.pydata.org/pandas-docs/stable/) and Google. Don't hestiate to ask for tips in Slack!"
   ]
  },
  {
   "cell_type": "code",
   "execution_count": 1,
   "metadata": {
    "deletable": false,
    "nbgrader": {
     "cell_type": "code",
     "checksum": "71f685a62c58703b2de3ecec535adf13",
     "grade": true,
     "grade_id": "problem_4_mg_p1_do_it_all",
     "locked": false,
     "points": 0,
     "schema_version": 3,
     "solution": true,
     "task": false
    }
   },
   "outputs": [],
   "source": [
    "# stores the file path for the May to August data for Kumpula and Rovaniemi in a list\n",
    "both= ['Kumpula_temps_May_Aug_2017.csv', 'Rovaniemi_temps_May_Aug_2017.csv']\n",
    "both_1= []\n",
    "import pandas as pd\n",
    "\n",
    "# creates an empty dataframe\n",
    "final_data= pd.DataFrame()\n",
    "\n",
    "\n",
    "\n",
    "# iterates over the 'both' list\n",
    "for one in both:\n",
    "    # reads the files into a pandas DataFrame\n",
    "    data= pd.read_csv(one)\n",
    "    \n",
    "    # rename some of the columns\n",
    "    data= data.rename(columns= {'YR--MODAHRMN': 'TIME', 'USAF': 'STATION NUMBER', 'TEMP': 'TEMP_F'})\n",
    "    \n",
    "    # converts the 'TIME' column into a string object and parses the dates into year, month and day columns\n",
    "    data['TIME_STR']= data['TIME'].astype(str)\n",
    "    data['YEAR'] = data['TIME_STR'].str.slice(0, 4)\n",
    "    data['MONTH'] = data['TIME_STR'].str.slice(4, 6)\n",
    "    data['DAY'] = data['TIME_STR'].str.slice(6, 8) \n",
    "    \n",
    "    # groups the data according to year, month and day\n",
    "    grouped_data= data.groupby(by= ['YEAR','MONTH', 'DAY'])\n",
    "    \n",
    "    # iterates over each group and finds the mean, maximum and minimun celsius temperature\n",
    "    for key, group in grouped_data:\n",
    "        new_data= group[['STATION NUMBER','Celsius']].mean()\n",
    "        new_data['DATE']= key\n",
    "        new_data['MAX']= group['Celsius'].max()\n",
    "        new_data['MIN']= group['Celsius'].min()\n",
    "        \n",
    "\n",
    "        # appends all the groups of both kumpula and rovaniemi to one dataframe\n",
    "        final_data= final_data.append(new_data, ignore_index=True)\n",
    "\n",
    "# divides the 'final_data' dataframe into 2 separate dataframes based on the station number column\n",
    "kumpula= final_data.loc[final_data['STATION NUMBER']== 29980]\n",
    "rovaniemi= final_data.loc[final_data['STATION NUMBER']==28450].reset_index(drop= True)"
   ]
  },
  {
   "cell_type": "code",
   "execution_count": 13,
   "metadata": {},
   "outputs": [],
   "source": []
  },
  {
   "cell_type": "code",
   "execution_count": null,
   "metadata": {},
   "outputs": [],
   "source": []
  }
 ],
 "metadata": {
  "anaconda-cloud": {},
  "kernelspec": {
   "display_name": "Python 3 (ipykernel)",
   "language": "python",
   "name": "python3"
  },
  "language_info": {
   "codemirror_mode": {
    "name": "ipython",
    "version": 3
   },
   "file_extension": ".py",
   "mimetype": "text/x-python",
   "name": "python",
   "nbconvert_exporter": "python",
   "pygments_lexer": "ipython3",
   "version": "3.8.12"
  }
 },
 "nbformat": 4,
 "nbformat_minor": 4
}
